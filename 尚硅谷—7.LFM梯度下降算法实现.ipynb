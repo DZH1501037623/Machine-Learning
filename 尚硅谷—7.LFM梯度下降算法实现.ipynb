{
 "cells": [
  {
   "cell_type": "markdown",
   "metadata": {},
   "source": [
    "# LFM梯度下降算法实现"
   ]
  },
  {
   "cell_type": "markdown",
   "metadata": {},
   "source": [
    "### 0.引入依赖"
   ]
  },
  {
   "cell_type": "code",
   "execution_count": 1,
   "metadata": {},
   "outputs": [],
   "source": [
    "import numpy as np\n",
    "import pandas as pd"
   ]
  },
  {
   "cell_type": "markdown",
   "metadata": {},
   "source": [
    "### 1.数据准备"
   ]
  },
  {
   "cell_type": "code",
   "execution_count": 5,
   "metadata": {},
   "outputs": [
    {
     "data": {
      "text/plain": [
       "(6, 5)"
      ]
     },
     "execution_count": 5,
     "metadata": {},
     "output_type": "execute_result"
    }
   ],
   "source": [
    "# 评分矩阵\n",
    "R = np.array( [[4, 0, 2, 0, 1],\n",
    "               [0, 2, 3, 0, 0],\n",
    "               [1, 0, 2, 4, 0],\n",
    "               [5, 0, 0, 3, 1],\n",
    "               [0, 0, 1, 5, 1],\n",
    "               [0, 3, 2, 4, 1],] )\n",
    "R.shape"
   ]
  },
  {
   "cell_type": "markdown",
   "metadata": {},
   "source": [
    "### 2.算法实现"
   ]
  },
  {
   "cell_type": "code",
   "execution_count": 12,
   "metadata": {},
   "outputs": [],
   "source": [
    "\"\"\"\n",
    "@输入参数：\n",
    "R：M*N的评分矩阵\n",
    "K：隐特征向量维度\n",
    "max_iter：最大迭代次数\n",
    "alpha：步长\n",
    "lamda：正则化系数\n",
    "\n",
    "@输出：\n",
    "分解之后的P，Q\n",
    "P：初始化用户特征矩阵M*K\n",
    "Q：初始化物品特征矩阵N*K\n",
    "\"\"\"\n",
    "\n",
    "# 给定超参数\n",
    "K = 2 \n",
    "max_iter = 5000\n",
    "alpha = 0.0002\n",
    "lamda = 0.004\n",
    "\n",
    "# 核心算法\n",
    "def LFM_grad_desc( R, K=5, max_iter=1000, alpha=0.0001, lamda=0.002 ):\n",
    "    # 基本维度参数定义\n",
    "    M = len(R)\n",
    "    N = len(R[0])\n",
    "    \n",
    "    # R,Q初始值，随机生成\n",
    "    P = np.random.rand(M, K)\n",
    "    Q = np.random.rand(N, K)\n",
    "    Q = Q.T #转置\n",
    "    \n",
    "    # 开始迭代\n",
    "    for step in range(max_iter):\n",
    "        # 对所有的用户u、物品i做遍历，对应的Pu、Qi梯度下降\n",
    "        for u in range(M):\n",
    "            for i in range(N):\n",
    "                # 对于每一个大于0的评分，求出预测评分误差\n",
    "                if R[u][i] > 0:\n",
    "                    eui = np.dot( P[u,:],Q[:,i] ) - R[u][i] # np.dot 点乘，用于处理矩阵\n",
    "                    \n",
    "                    # 代入公式，按照梯度下降算法更新当前Pu、Qi\n",
    "                    for k in range(K):\n",
    "                        P[u][k] = P[u][k] - alpha * ( 2 * eui * Q[k][i] + 2 * lamda * P[u][k] )\n",
    "                        Q[k][i] = Q[k][i] - alpha * ( 2 * eui * P[u][k] + 2 * lamda * Q[k][i] )\n",
    "            \n",
    "            # u、i遍历完成，所有特征向量更新完成，可以得到P，Q，可以计算预测评分矩阵\n",
    "            predR = np.dot( P, Q )\n",
    "            \n",
    "            # 计算当前损失函数\n",
    "            cost = 0\n",
    "            for u in range(M):\n",
    "                for i in range(N):\n",
    "                    if R[u][i] > 0:\n",
    "                        cost += ( np.dot( P[u,:], Q[:,i] ) - R[u][i] ) ** 2\n",
    "                        # 加上正则化项\n",
    "                        for k in range(K):\n",
    "                            cost += lamda * ( P[u][k] ** 2 + Q[k][i] ** 2 )\n",
    "            if cost < 0.0001:\n",
    "                break\n",
    "    return P, Q.T, cost"
   ]
  },
  {
   "cell_type": "markdown",
   "metadata": {},
   "source": [
    "### 3.测试"
   ]
  },
  {
   "cell_type": "code",
   "execution_count": 13,
   "metadata": {},
   "outputs": [
    {
     "name": "stdout",
     "output_type": "stream",
     "text": [
      "[[0.94529312 1.42593733]\n",
      " [1.77719295 1.0597533 ]\n",
      " [1.63432235 0.11703644]\n",
      " [0.1499488  1.87793171]\n",
      " [0.89275617 1.71621519]\n",
      " [0.78984527 1.64788479]]\n",
      "[[0.44659847 2.56285658]\n",
      " [0.33758418 1.51139215]\n",
      " [1.26413943 0.40248095]\n",
      " [2.30502708 1.4803337 ]\n",
      " [0.23674665 0.50052945]]\n",
      "1.8404665841443315\n",
      "[[4 0 2 0 1]\n",
      " [0 2 3 0 0]\n",
      " [1 0 2 4 0]\n",
      " [5 0 0 3 1]\n",
      " [0 0 1 5 1]\n",
      " [0 3 2 4 1]]\n"
     ]
    },
    {
     "data": {
      "text/plain": [
       "array([[4.07663932, 2.47426648, 1.76889492, 4.28978932, 0.9375186 ],\n",
       "       [3.50968738, 2.20165505, 2.67315019, 5.66526639, 0.9511822 ],\n",
       "       [1.02983347, 0.72860933, 2.11311626, 3.94041026, 0.44550052],\n",
       "       [4.87983654, 2.88891158, 0.94538793, 3.12560162, 0.97546   ],\n",
       "       [4.79711695, 2.89525453, 1.8193122 , 4.59839833, 1.07037327],\n",
       "       [4.57603607, 2.7572394 , 1.66171678, 4.26003411, 1.01180808]])"
      ]
     },
     "execution_count": 13,
     "metadata": {},
     "output_type": "execute_result"
    }
   ],
   "source": [
    "P, Q, cost = LFM_grad_desc(R, K, max_iter, alpha, lamda)\n",
    "\n",
    "print(P)\n",
    "print(Q)\n",
    "print(cost)\n",
    "\n",
    "predR = P.dot(Q.T)\n",
    "\n",
    "print(R)\n",
    "predR"
   ]
  },
  {
   "cell_type": "code",
   "execution_count": null,
   "metadata": {},
   "outputs": [],
   "source": []
  },
  {
   "cell_type": "code",
   "execution_count": null,
   "metadata": {},
   "outputs": [],
   "source": []
  },
  {
   "cell_type": "code",
   "execution_count": null,
   "metadata": {},
   "outputs": [],
   "source": []
  },
  {
   "cell_type": "code",
   "execution_count": null,
   "metadata": {},
   "outputs": [],
   "source": []
  },
  {
   "cell_type": "code",
   "execution_count": null,
   "metadata": {},
   "outputs": [],
   "source": []
  },
  {
   "cell_type": "code",
   "execution_count": null,
   "metadata": {},
   "outputs": [],
   "source": []
  },
  {
   "cell_type": "code",
   "execution_count": null,
   "metadata": {},
   "outputs": [],
   "source": []
  },
  {
   "cell_type": "code",
   "execution_count": null,
   "metadata": {},
   "outputs": [],
   "source": []
  }
 ],
 "metadata": {
  "kernelspec": {
   "display_name": "Python 3",
   "language": "python",
   "name": "python3"
  },
  "language_info": {
   "codemirror_mode": {
    "name": "ipython",
    "version": 3
   },
   "file_extension": ".py",
   "mimetype": "text/x-python",
   "name": "python",
   "nbconvert_exporter": "python",
   "pygments_lexer": "ipython3",
   "version": "3.7.6"
  }
 },
 "nbformat": 4,
 "nbformat_minor": 4
}
